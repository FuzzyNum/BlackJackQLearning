{
 "cells": [
  {
   "cell_type": "code",
   "execution_count": 1,
   "metadata": {},
   "outputs": [],
   "source": [
    "import sys\n",
    "sys.path.append(\"/Library/Frameworks/Python.framework/Versions/3.12/lib/python3.12/site-packages\")\n",
    "import gymnasium as gym\n",
    "import numpy as np\n",
    "import seaborn\n",
    "from tqdm import tqdm #progress bar\n"
   ]
  },
  {
   "cell_type": "code",
   "execution_count": 2,
   "metadata": {},
   "outputs": [],
   "source": [
    "from collections import defaultdict\n",
    "import matplotlib.pyplot as plt #drawing plots\n",
    "from matplotlib.patches import Patch #draw shapes\n",
    "from IPython.display import clear_output"
   ]
  },
  {
   "cell_type": "code",
   "execution_count": 3,
   "metadata": {},
   "outputs": [],
   "source": [
    "env=gym.make(\"Taxi-v3\")"
   ]
  },
  {
   "cell_type": "code",
   "execution_count": 4,
   "metadata": {},
   "outputs": [],
   "source": [
    "done=False\n",
    "observation, info=env.reset()"
   ]
  },
  {
   "cell_type": "code",
   "execution_count": 5,
   "metadata": {},
   "outputs": [],
   "source": [
    "action =env.action_space.sample()\n",
    "observation,reward,terminated,truncated,info =env.step(action)"
   ]
  },
  {
   "cell_type": "code",
   "execution_count": 7,
   "metadata": {},
   "outputs": [],
   "source": [
    "class TaxiAgent:\n",
    "    def __init__(self, learning_rate:float,initial_epsilon:float,epsilon_decay:float,final_epsilon:float,discount_factor:float = 0.95):\n",
    "        #Initialize RL agent with empty dictionary of state-action values, learning rate, epsilon.\n",
    "        #discount_factor: the discount factor for computing the Q-value.\n",
    "        self.q_values= defaultdict(lambda:np.zeros(env.action_space.n))\n",
    "        self.lr=learning_rate\n",
    "        self.discount_factor=discount_factor\n",
    "        self.epsilon=initial_epsilon\n",
    "        self.epsilon_decay=epsilon_decay\n",
    "        self.final_epsilon=final_epsilon\n",
    "        self.training_error=[]\n",
    "    def get_action(self, obs)->int:\n",
    "        if np.random()<self.epsilon:\n",
    "            return env.action_space.sample()\n",
    "        else:\n",
    "            return int(np.argmax(self.q_values[obs]))\n",
    "    def update(self, obs:tuple[int,int,bool], action:int, reward:float, termianted:bool, next_obs:tuple[int,int,bool])->int:\n",
    "        future_q_value=0\n",
    "        if not terminated:\n",
    "            future_q_value=np.max(self.q_values[next_obs])\n",
    "        temporal_difference= (reward+self.discount_factor*future_q_value-self.q_values[obs][action])\n",
    "        self.q_values[obs][action]=self.q_values[obs][action]+self.lr*temporal_difference\n",
    "        self.training_error.append(temporal_difference)\n",
    "    def decay_epsilon(self):\n",
    "        self.epsilon=max(self.final_epsilon, self.epsilon-self.epsilon_decay)\n"
   ]
  },
  {
   "cell_type": "code",
   "execution_count": 8,
   "metadata": {},
   "outputs": [],
   "source": [
    "learning_rate=0.01\n",
    "n_episodes=10000\n",
    "start_epsilon=1.0\n",
    "epsilon_decay= start_epsilon/(n_episodes/2)\n",
    "final_epsilon=0.1"
   ]
  },
  {
   "cell_type": "code",
   "execution_count": 9,
   "metadata": {},
   "outputs": [],
   "source": [
    "agent = TaxiAgent(\n",
    "    learning_rate=learning_rate,\n",
    "    initial_epsilon=start_epsilon,\n",
    "    epsilon_decay=epsilon_decay,\n",
    "    final_epsilon=final_epsilon\n",
    ")"
   ]
  },
  {
   "cell_type": "code",
   "execution_count": null,
   "metadata": {},
   "outputs": [],
   "source": []
  },
  {
   "cell_type": "code",
   "execution_count": null,
   "metadata": {},
   "outputs": [],
   "source": []
  }
 ],
 "metadata": {
  "kernelspec": {
   "display_name": "base",
   "language": "python",
   "name": "python3"
  },
  "language_info": {
   "codemirror_mode": {
    "name": "ipython",
    "version": 3
   },
   "file_extension": ".py",
   "mimetype": "text/x-python",
   "name": "python",
   "nbconvert_exporter": "python",
   "pygments_lexer": "ipython3",
   "version": "3.9.7"
  }
 },
 "nbformat": 4,
 "nbformat_minor": 2
}

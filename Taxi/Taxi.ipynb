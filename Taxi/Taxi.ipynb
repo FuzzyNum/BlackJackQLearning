{
 "cells": [
  {
   "cell_type": "code",
   "execution_count": 1,
   "metadata": {},
   "outputs": [
    {
     "name": "stdout",
     "output_type": "stream",
     "text": [
      "pygame 2.5.2 (SDL 2.28.3, Python 3.9.7)\n",
      "Hello from the pygame community. https://www.pygame.org/contribute.html\n"
     ]
    }
   ],
   "source": [
    "import sys\n",
    "sys.path.append(\"/Library/Frameworks/Python.framework/Versions/3.12/lib/python3.12/site-packages\")\n",
    "import pygame\n",
    "import moviepy\n",
    "import gymnasium as gym\n",
    "import numpy as np\n",
    "import seaborn\n",
    "from tqdm import tqdm #progress bar\n"
   ]
  },
  {
   "cell_type": "code",
   "execution_count": 2,
   "metadata": {},
   "outputs": [],
   "source": [
    "from collections import defaultdict\n",
    "import matplotlib.pyplot as plt #drawing plots\n",
    "from matplotlib.patches import Patch #draw shapes\n",
    "from IPython.display import clear_output"
   ]
  },
  {
   "cell_type": "code",
   "execution_count": 3,
   "metadata": {},
   "outputs": [],
   "source": [
    "env=gym.make(\"Taxi-v3\",render_mode=\"rgb_array\")"
   ]
  },
  {
   "cell_type": "code",
   "execution_count": 4,
   "metadata": {},
   "outputs": [],
   "source": [
    "done=False\n",
    "observation, info=env.reset()"
   ]
  },
  {
   "cell_type": "code",
   "execution_count": 5,
   "metadata": {},
   "outputs": [],
   "source": [
    "action =env.action_space.sample()\n",
    "observation,reward,terminated,truncated,info =env.step(action)"
   ]
  },
  {
   "cell_type": "code",
   "execution_count": 6,
   "metadata": {},
   "outputs": [],
   "source": [
    "class TaxiAgent:\n",
    "    def __init__(self, learning_rate:float,initial_epsilon:float,epsilon_decay:float,final_epsilon:float,discount_factor:float = 0.95):\n",
    "        #Initialize RL agent with empty dictionary of state-action values, learning rate, epsilon.\n",
    "        #discount_factor: the discount factor for computing the Q-value.\n",
    "        self.q_values= defaultdict(lambda:np.zeros(env.action_space.n))\n",
    "        self.lr=learning_rate\n",
    "        self.discount_factor=discount_factor\n",
    "        self.epsilon=initial_epsilon\n",
    "        self.epsilon_decay=epsilon_decay\n",
    "        self.final_epsilon=final_epsilon\n",
    "        self.training_error=[]\n",
    "    def get_action(self, obs)->int:\n",
    "        if np.random.random()<self.epsilon:\n",
    "            return env.action_space.sample()\n",
    "        else:\n",
    "            return int(np.argmax(self.q_values[obs]))\n",
    "    def update(self, obs:int, action:int, reward:float, termianted:bool, next_obs:int)->int:\n",
    "        future_q_value=0\n",
    "        if not terminated:\n",
    "            future_q_value=np.max(self.q_values[next_obs])\n",
    "        temporal_difference= (reward+self.discount_factor*future_q_value-self.q_values[obs][action])\n",
    "        self.q_values[obs][action]=self.q_values[obs][action]+self.lr*temporal_difference\n",
    "        self.training_error.append(temporal_difference)\n",
    "    def decay_epsilon(self):\n",
    "        self.epsilon=max(self.final_epsilon, self.epsilon-self.epsilon_decay)\n"
   ]
  },
  {
   "cell_type": "code",
   "execution_count": 7,
   "metadata": {},
   "outputs": [],
   "source": [
    "learning_rate=0.01\n",
    "n_episodes=10000\n",
    "start_epsilon=1.0\n",
    "epsilon_decay= start_epsilon/(n_episodes/2)\n",
    "final_epsilon=0.1"
   ]
  },
  {
   "cell_type": "code",
   "execution_count": 8,
   "metadata": {},
   "outputs": [],
   "source": [
    "agent = TaxiAgent(\n",
    "    learning_rate=learning_rate,\n",
    "    initial_epsilon=start_epsilon,\n",
    "    epsilon_decay=epsilon_decay,\n",
    "    final_epsilon=final_epsilon\n",
    ")"
   ]
  },
  {
   "cell_type": "code",
   "execution_count": 9,
   "metadata": {},
   "outputs": [
    {
     "name": "stderr",
     "output_type": "stream",
     "text": [
      "/Library/Frameworks/Python.framework/Versions/3.12/lib/python3.12/site-packages/gymnasium/wrappers/record_video.py:94: UserWarning: \u001b[33mWARN: Overwriting existing videos at /Users/lukehoward/Documents/GitHub/Reinforcement-Learning/Taxi/taxi_agent folder (try specifying a different `video_folder` for the `RecordVideo` wrapper if this is not desired)\u001b[0m\n",
      "  logger.warn(\n"
     ]
    }
   ],
   "source": [
    "env=gym.wrappers.RecordEpisodeStatistics(env, deque_size=n_episodes)\n",
    "env= gym.wrappers.RecordVideo(env, video_folder=\"taxi_agent\", episode_trigger=lambda x: x%1000==0)\n",
    "\n"
   ]
  },
  {
   "cell_type": "code",
   "execution_count": 11,
   "metadata": {},
   "outputs": [
    {
     "name": "stderr",
     "output_type": "stream",
     "text": [
      "  0%|          | 0/10000 [00:00<?, ?it/s]"
     ]
    },
    {
     "name": "stdout",
     "output_type": "stream",
     "text": [
      "Moviepy - Building video /Users/lukehoward/Documents/GitHub/Reinforcement-Learning/Taxi/taxi_agent/rl-video-episode-10000.mp4.\n",
      "Moviepy - Writing video /Users/lukehoward/Documents/GitHub/Reinforcement-Learning/Taxi/taxi_agent/rl-video-episode-10000.mp4\n",
      "\n"
     ]
    },
    {
     "name": "stderr",
     "output_type": "stream",
     "text": [
      "  0%|          | 1/10000 [00:00<39:12,  4.25it/s]"
     ]
    },
    {
     "name": "stdout",
     "output_type": "stream",
     "text": [
      "Moviepy - Done !\n",
      "Moviepy - video ready /Users/lukehoward/Documents/GitHub/Reinforcement-Learning/Taxi/taxi_agent/rl-video-episode-10000.mp4\n"
     ]
    },
    {
     "name": "stderr",
     "output_type": "stream",
     "text": [
      "  9%|▉         | 919/10000 [00:00<00:05, 1672.94it/s]"
     ]
    },
    {
     "name": "stdout",
     "output_type": "stream",
     "text": [
      "Moviepy - Building video /Users/lukehoward/Documents/GitHub/Reinforcement-Learning/Taxi/taxi_agent/rl-video-episode-11000.mp4.\n",
      "Moviepy - Writing video /Users/lukehoward/Documents/GitHub/Reinforcement-Learning/Taxi/taxi_agent/rl-video-episode-11000.mp4\n",
      "\n"
     ]
    },
    {
     "name": "stderr",
     "output_type": "stream",
     "text": [
      " 11%|█         | 1100/10000 [00:01<00:07, 1124.83it/s]"
     ]
    },
    {
     "name": "stdout",
     "output_type": "stream",
     "text": [
      "Moviepy - Done !\n",
      "Moviepy - video ready /Users/lukehoward/Documents/GitHub/Reinforcement-Learning/Taxi/taxi_agent/rl-video-episode-11000.mp4\n"
     ]
    },
    {
     "name": "stderr",
     "output_type": "stream",
     "text": [
      " 19%|█▉        | 1908/10000 [00:01<00:04, 1783.90it/s]"
     ]
    },
    {
     "name": "stdout",
     "output_type": "stream",
     "text": [
      "Moviepy - Building video /Users/lukehoward/Documents/GitHub/Reinforcement-Learning/Taxi/taxi_agent/rl-video-episode-12000.mp4.\n",
      "Moviepy - Writing video /Users/lukehoward/Documents/GitHub/Reinforcement-Learning/Taxi/taxi_agent/rl-video-episode-12000.mp4\n",
      "\n"
     ]
    },
    {
     "name": "stderr",
     "output_type": "stream",
     "text": [
      " 21%|██        | 2103/10000 [00:01<00:06, 1295.19it/s]"
     ]
    },
    {
     "name": "stdout",
     "output_type": "stream",
     "text": [
      "Moviepy - Done !\n",
      "Moviepy - video ready /Users/lukehoward/Documents/GitHub/Reinforcement-Learning/Taxi/taxi_agent/rl-video-episode-12000.mp4\n"
     ]
    },
    {
     "name": "stderr",
     "output_type": "stream",
     "text": [
      " 29%|██▉       | 2939/10000 [00:02<00:03, 1895.06it/s]"
     ]
    },
    {
     "name": "stdout",
     "output_type": "stream",
     "text": [
      "Moviepy - Building video /Users/lukehoward/Documents/GitHub/Reinforcement-Learning/Taxi/taxi_agent/rl-video-episode-13000.mp4.\n",
      "Moviepy - Writing video /Users/lukehoward/Documents/GitHub/Reinforcement-Learning/Taxi/taxi_agent/rl-video-episode-13000.mp4\n",
      "\n"
     ]
    },
    {
     "name": "stderr",
     "output_type": "stream",
     "text": [
      " 31%|███▏      | 3144/10000 [00:02<00:05, 1251.74it/s]"
     ]
    },
    {
     "name": "stdout",
     "output_type": "stream",
     "text": [
      "Moviepy - Done !\n",
      "Moviepy - video ready /Users/lukehoward/Documents/GitHub/Reinforcement-Learning/Taxi/taxi_agent/rl-video-episode-13000.mp4\n"
     ]
    },
    {
     "name": "stderr",
     "output_type": "stream",
     "text": [
      " 40%|███▉      | 3987/10000 [00:02<00:03, 1863.10it/s]"
     ]
    },
    {
     "name": "stdout",
     "output_type": "stream",
     "text": [
      "Moviepy - Building video /Users/lukehoward/Documents/GitHub/Reinforcement-Learning/Taxi/taxi_agent/rl-video-episode-14000.mp4.\n",
      "Moviepy - Writing video /Users/lukehoward/Documents/GitHub/Reinforcement-Learning/Taxi/taxi_agent/rl-video-episode-14000.mp4\n",
      "\n"
     ]
    },
    {
     "name": "stderr",
     "output_type": "stream",
     "text": [
      " 40%|███▉      | 3987/10000 [00:03<00:03, 1863.10it/s]"
     ]
    },
    {
     "name": "stdout",
     "output_type": "stream",
     "text": [
      "Moviepy - Done !\n",
      "Moviepy - video ready /Users/lukehoward/Documents/GitHub/Reinforcement-Learning/Taxi/taxi_agent/rl-video-episode-14000.mp4\n"
     ]
    },
    {
     "name": "stderr",
     "output_type": "stream",
     "text": [
      " 49%|████▉     | 4900/10000 [00:03<00:02, 1777.27it/s]"
     ]
    },
    {
     "name": "stdout",
     "output_type": "stream",
     "text": [
      "Moviepy - Building video /Users/lukehoward/Documents/GitHub/Reinforcement-Learning/Taxi/taxi_agent/rl-video-episode-15000.mp4.\n",
      "Moviepy - Writing video /Users/lukehoward/Documents/GitHub/Reinforcement-Learning/Taxi/taxi_agent/rl-video-episode-15000.mp4\n",
      "\n"
     ]
    },
    {
     "name": "stderr",
     "output_type": "stream",
     "text": [
      " 51%|█████     | 5114/10000 [00:03<00:03, 1316.34it/s]"
     ]
    },
    {
     "name": "stdout",
     "output_type": "stream",
     "text": [
      "Moviepy - Done !\n",
      "Moviepy - video ready /Users/lukehoward/Documents/GitHub/Reinforcement-Learning/Taxi/taxi_agent/rl-video-episode-15000.mp4\n"
     ]
    },
    {
     "name": "stderr",
     "output_type": "stream",
     "text": [
      " 58%|█████▊    | 5789/10000 [00:04<00:02, 1846.42it/s]"
     ]
    },
    {
     "name": "stdout",
     "output_type": "stream",
     "text": [
      "Moviepy - Building video /Users/lukehoward/Documents/GitHub/Reinforcement-Learning/Taxi/taxi_agent/rl-video-episode-16000.mp4.\n",
      "Moviepy - Writing video /Users/lukehoward/Documents/GitHub/Reinforcement-Learning/Taxi/taxi_agent/rl-video-episode-16000.mp4\n",
      "\n"
     ]
    },
    {
     "name": "stderr",
     "output_type": "stream",
     "text": [
      " 60%|██████    | 6002/10000 [00:04<00:03, 1252.14it/s]"
     ]
    },
    {
     "name": "stdout",
     "output_type": "stream",
     "text": [
      "Moviepy - Done !\n",
      "Moviepy - video ready /Users/lukehoward/Documents/GitHub/Reinforcement-Learning/Taxi/taxi_agent/rl-video-episode-16000.mp4\n"
     ]
    },
    {
     "name": "stderr",
     "output_type": "stream",
     "text": [
      " 69%|██████▉   | 6926/10000 [00:04<00:01, 1992.34it/s]"
     ]
    },
    {
     "name": "stdout",
     "output_type": "stream",
     "text": [
      "Moviepy - Building video /Users/lukehoward/Documents/GitHub/Reinforcement-Learning/Taxi/taxi_agent/rl-video-episode-17000.mp4.\n",
      "Moviepy - Writing video /Users/lukehoward/Documents/GitHub/Reinforcement-Learning/Taxi/taxi_agent/rl-video-episode-17000.mp4\n",
      "\n"
     ]
    },
    {
     "name": "stderr",
     "output_type": "stream",
     "text": [
      " 72%|███████▏  | 7150/10000 [00:04<00:02, 1381.82it/s]"
     ]
    },
    {
     "name": "stdout",
     "output_type": "stream",
     "text": [
      "Moviepy - Done !\n",
      "Moviepy - video ready /Users/lukehoward/Documents/GitHub/Reinforcement-Learning/Taxi/taxi_agent/rl-video-episode-17000.mp4\n"
     ]
    },
    {
     "name": "stderr",
     "output_type": "stream",
     "text": [
      " 79%|███████▉  | 7884/10000 [00:05<00:01, 1966.71it/s]"
     ]
    },
    {
     "name": "stdout",
     "output_type": "stream",
     "text": [
      "Moviepy - Building video /Users/lukehoward/Documents/GitHub/Reinforcement-Learning/Taxi/taxi_agent/rl-video-episode-18000.mp4.\n",
      "Moviepy - Writing video /Users/lukehoward/Documents/GitHub/Reinforcement-Learning/Taxi/taxi_agent/rl-video-episode-18000.mp4\n",
      "\n"
     ]
    },
    {
     "name": "stderr",
     "output_type": "stream",
     "text": [
      " 81%|████████  | 8109/10000 [00:05<00:01, 1396.82it/s]"
     ]
    },
    {
     "name": "stdout",
     "output_type": "stream",
     "text": [
      "Moviepy - Done !\n",
      "Moviepy - video ready /Users/lukehoward/Documents/GitHub/Reinforcement-Learning/Taxi/taxi_agent/rl-video-episode-18000.mp4\n"
     ]
    },
    {
     "name": "stderr",
     "output_type": "stream",
     "text": [
      " 88%|████████▊ | 8789/10000 [00:06<00:00, 1883.46it/s]"
     ]
    },
    {
     "name": "stdout",
     "output_type": "stream",
     "text": [
      "Moviepy - Building video /Users/lukehoward/Documents/GitHub/Reinforcement-Learning/Taxi/taxi_agent/rl-video-episode-19000.mp4.\n",
      "Moviepy - Writing video /Users/lukehoward/Documents/GitHub/Reinforcement-Learning/Taxi/taxi_agent/rl-video-episode-19000.mp4\n",
      "\n"
     ]
    },
    {
     "name": "stderr",
     "output_type": "stream",
     "text": [
      " 92%|█████████▏| 9212/10000 [00:06<00:00, 1567.83it/s]"
     ]
    },
    {
     "name": "stdout",
     "output_type": "stream",
     "text": [
      "Moviepy - Done !\n",
      "Moviepy - video ready /Users/lukehoward/Documents/GitHub/Reinforcement-Learning/Taxi/taxi_agent/rl-video-episode-19000.mp4\n"
     ]
    },
    {
     "name": "stderr",
     "output_type": "stream",
     "text": [
      "100%|██████████| 10000/10000 [00:06<00:00, 1527.77it/s]\n"
     ]
    },
    {
     "name": "stdout",
     "output_type": "stream",
     "text": [
      "Moviepy - Building video /Users/lukehoward/Documents/GitHub/Reinforcement-Learning/Taxi/taxi_agent/rl-video-episode-20000.mp4.\n",
      "Moviepy - Writing video /Users/lukehoward/Documents/GitHub/Reinforcement-Learning/Taxi/taxi_agent/rl-video-episode-20000.mp4\n",
      "\n"
     ]
    },
    {
     "name": "stderr",
     "output_type": "stream",
     "text": [
      "/Library/Frameworks/Python.framework/Versions/3.12/lib/python3.12/site-packages/gymnasium/core.py:311: UserWarning: \u001b[33mWARN: env.return_queue to get variables from other wrappers is deprecated and will be removed in v1.0, to get this variable you can do `env.unwrapped.return_queue` for environment variables or `env.get_wrapper_attr('return_queue')` that will search the reminding wrappers.\u001b[0m\n",
      "  logger.warn(\n",
      "/Library/Frameworks/Python.framework/Versions/3.12/lib/python3.12/site-packages/gymnasium/core.py:311: UserWarning: \u001b[33mWARN: env.length_queue to get variables from other wrappers is deprecated and will be removed in v1.0, to get this variable you can do `env.unwrapped.length_queue` for environment variables or `env.get_wrapper_attr('length_queue')` that will search the reminding wrappers.\u001b[0m\n",
      "  logger.warn(\n"
     ]
    },
    {
     "name": "stdout",
     "output_type": "stream",
     "text": [
      "Moviepy - Done !\n",
      "Moviepy - video ready /Users/lukehoward/Documents/GitHub/Reinforcement-Learning/Taxi/taxi_agent/rl-video-episode-20000.mp4\n"
     ]
    },
    {
     "data": {
      "image/png": "[encoded data removed]",
      "text/plain": [
       "<Figure size 864x360 with 3 Axes>"
      ]
     },
     "metadata": {
      "needs_background": "light"
     },
     "output_type": "display_data"
    }
   ],
   "source": [
    "for episode in tqdm(range(n_episodes)):\n",
    "    obs, info = env.reset()\n",
    "    done = False\n",
    "\n",
    "    while not done:\n",
    "        action = int(agent.get_action(obs))\n",
    "        next_obs, reward, terminated, truncated, infos = env.step(action)\n",
    "\n",
    "        agent.update(obs, action, reward, terminated, next_obs)\n",
    "\n",
    "        done = terminated or truncated\n",
    "        obs = next_obs\n",
    "\n",
    "    agent.decay_epsilon()\n",
    "env.close()\n",
    "\n",
    "rolling_length=500\n",
    "fig, axs= plt.subplots(ncols=3, figsize=(12,5))\n",
    "axs[0].set_title(\"Episode rewards\")\n",
    "reward_moving_average=(np.convolve(np.array(env.return_queue).flatten(), np.ones(rolling_length), mode=\"same\")/rolling_length)\n",
    "axs[0].plot(range(len(reward_moving_average)), reward_moving_average)\n",
    "axs[1].set_title(\"Episode Lengths\")\n",
    "length_moving_average=(np.convolve(np.array(env.length_queue).flatten(), np.ones(rolling_length), mode=\"same\")/rolling_length)\n",
    "axs[1].plot(range(len(length_moving_average)),length_moving_average)\n",
    "training_error_moving_average=(np.convolve(np.array(agent.training_error).flatten(), np.ones(rolling_length), mode=\"same\")/rolling_length)\n",
    "axs[2].plot(range(len(training_error_moving_average)), training_error_moving_average)\n",
    "axs[2].set_title(\"Episode Error\")\n",
    "plt.tight_layout()\n",
    "plt.show()"
   ]
  }
 ],
 "metadata": {
  "kernelspec": {
   "display_name": "base",
   "language": "python",
   "name": "python3"
  },
  "language_info": {
   "codemirror_mode": {
    "name": "ipython",
    "version": 3
   },
   "file_extension": ".py",
   "mimetype": "text/x-python",
   "name": "python",
   "nbconvert_exporter": "python",
   "pygments_lexer": "ipython3",
   "version": "3.9.7"
  }
 },
 "nbformat": 4,
 "nbformat_minor": 2
}

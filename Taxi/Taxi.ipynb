{
 "cells": [
  {
   "cell_type": "code",
   "execution_count": 12,
   "metadata": {},
   "outputs": [],
   "source": [
    "import pygame\n",
    "import moviepy\n",
    "import gymnasium as gym\n",
    "import numpy as np\n",
    "import seaborn\n",
    "from tqdm import tqdm #progress bar\n"
   ]
  },
  {
   "cell_type": "code",
   "execution_count": 13,
   "metadata": {},
   "outputs": [],
   "source": [
    "from collections import defaultdict\n",
    "import matplotlib.pyplot as plt #drawing plots\n",
    "from matplotlib.patches import Patch #draw shapes\n",
    "from IPython.display import clear_output"
   ]
  },
  {
   "cell_type": "code",
   "execution_count": 14,
   "metadata": {},
   "outputs": [],
   "source": [
    "env=gym.make(\"Taxi-v3\",render_mode=\"rgb_array\")"
   ]
  },
  {
   "cell_type": "code",
   "execution_count": 15,
   "metadata": {},
   "outputs": [],
   "source": [
    "done=False\n",
    "observation, info=env.reset()"
   ]
  },
  {
   "cell_type": "code",
   "execution_count": 16,
   "metadata": {},
   "outputs": [],
   "source": [
    "action =env.action_space.sample()\n",
    "observation,reward,terminated,truncated,info =env.step(action)"
   ]
  },
  {
   "cell_type": "code",
   "execution_count": 17,
   "metadata": {},
   "outputs": [],
   "source": [
    "class TaxiAgent:\n",
    "    def __init__(self, learning_rate:float,initial_epsilon:float,epsilon_decay:float,final_epsilon:float,discount_factor:float = 0.95):\n",
    "        #Initialize RL agent with empty dictionary of state-action values, learning rate, epsilon.\n",
    "        #discount_factor: the discount factor for computing the Q-value.\n",
    "        self.q_values= defaultdict(lambda:np.zeros(env.action_space.n))\n",
    "        self.lr=learning_rate\n",
    "        self.discount_factor=discount_factor\n",
    "        self.epsilon=initial_epsilon\n",
    "        self.epsilon_decay=epsilon_decay\n",
    "        self.final_epsilon=final_epsilon\n",
    "        self.training_error=[]\n",
    "    def get_action(self, obs)->int:\n",
    "        if np.random.random()<self.epsilon:\n",
    "            return env.action_space.sample()\n",
    "        else:\n",
    "            return int(np.argmax(self.q_values[obs]))\n",
    "    def update(self, obs:int, action:int, reward:float, termianted:bool, next_obs:int)->int:\n",
    "        future_q_value=0\n",
    "        if not terminated:\n",
    "            future_q_value=np.max(self.q_values[next_obs])\n",
    "        temporal_difference= (reward+self.discount_factor*future_q_value-self.q_values[obs][action])\n",
    "        self.q_values[obs][action]=self.q_values[obs][action]+self.lr*temporal_difference\n",
    "        self.training_error.append(temporal_difference)\n",
    "    def decay_epsilon(self):\n",
    "        self.epsilon=max(self.final_epsilon, self.epsilon-self.epsilon_decay)\n"
   ]
  },
  {
   "cell_type": "code",
   "execution_count": 18,
   "metadata": {},
   "outputs": [],
   "source": [
    "learning_rate=0.01\n",
    "n_episodes=10000\n",
    "start_epsilon=1.0\n",
    "epsilon_decay= start_epsilon/(n_episodes/2)\n",
    "final_epsilon=0.1"
   ]
  },
  {
   "cell_type": "code",
   "execution_count": 19,
   "metadata": {},
   "outputs": [],
   "source": [
    "agent = TaxiAgent(\n",
    "    learning_rate=learning_rate,\n",
    "    initial_epsilon=start_epsilon,\n",
    "    epsilon_decay=epsilon_decay,\n",
    "    final_epsilon=final_epsilon\n",
    ")"
   ]
  },
  {
   "cell_type": "code",
   "execution_count": 20,
   "metadata": {},
   "outputs": [
    {
     "name": "stderr",
     "output_type": "stream",
     "text": [
      "/Library/Frameworks/Python.framework/Versions/3.12/lib/python3.12/site-packages/gymnasium/wrappers/record_video.py:94: UserWarning: \u001b[33mWARN: Overwriting existing videos at /Users/lukehoward/Documents/GitHub/Reinforcement-Learning/Taxi/taxi_agent folder (try specifying a different `video_folder` for the `RecordVideo` wrapper if this is not desired)\u001b[0m\n",
      "  logger.warn(\n"
     ]
    }
   ],
   "source": [
    "env=gym.wrappers.RecordEpisodeStatistics(env, deque_size=n_episodes)\n",
    "env= gym.wrappers.RecordVideo(env, video_folder=\"taxi_agent\", episode_trigger=lambda x: x%1000==0)\n",
    "\n"
   ]
  },
  {
   "cell_type": "code",
   "execution_count": 21,
   "metadata": {},
   "outputs": [
    {
     "name": "stderr",
     "output_type": "stream",
     "text": [
      "  0%|          | 0/10000 [00:00<?, ?it/s]"
     ]
    },
    {
     "name": "stdout",
     "output_type": "stream",
     "text": [
      "Moviepy - Building video /Users/lukehoward/Documents/GitHub/Reinforcement-Learning/Taxi/taxi_agent/rl-video-episode-0.mp4.\n",
      "Moviepy - Writing video /Users/lukehoward/Documents/GitHub/Reinforcement-Learning/Taxi/taxi_agent/rl-video-episode-0.mp4\n",
      "\n"
     ]
    },
    {
     "name": "stderr",
     "output_type": "stream",
     "text": [
      "  0%|          | 37/10000 [00:01<03:59, 41.55it/s] "
     ]
    },
    {
     "name": "stdout",
     "output_type": "stream",
     "text": [
      "Moviepy - Done !\n",
      "Moviepy - video ready /Users/lukehoward/Documents/GitHub/Reinforcement-Learning/Taxi/taxi_agent/rl-video-episode-0.mp4\n"
     ]
    },
    {
     "name": "stderr",
     "output_type": "stream",
     "text": [
      " 10%|▉         | 982/10000 [00:07<00:47, 188.10it/s]"
     ]
    },
    {
     "name": "stdout",
     "output_type": "stream",
     "text": [
      "Moviepy - Building video /Users/lukehoward/Documents/GitHub/Reinforcement-Learning/Taxi/taxi_agent/rl-video-episode-1000.mp4.\n",
      "Moviepy - Writing video /Users/lukehoward/Documents/GitHub/Reinforcement-Learning/Taxi/taxi_agent/rl-video-episode-1000.mp4\n",
      "\n"
     ]
    },
    {
     "name": "stderr",
     "output_type": "stream",
     "text": [
      " 10%|█         | 1038/10000 [00:08<02:04, 71.99it/s]"
     ]
    },
    {
     "name": "stdout",
     "output_type": "stream",
     "text": [
      "Moviepy - Done !\n",
      "Moviepy - video ready /Users/lukehoward/Documents/GitHub/Reinforcement-Learning/Taxi/taxi_agent/rl-video-episode-1000.mp4\n"
     ]
    },
    {
     "name": "stderr",
     "output_type": "stream",
     "text": [
      " 20%|█▉        | 1989/10000 [00:13<00:37, 213.23it/s]"
     ]
    },
    {
     "name": "stdout",
     "output_type": "stream",
     "text": [
      "Moviepy - Building video /Users/lukehoward/Documents/GitHub/Reinforcement-Learning/Taxi/taxi_agent/rl-video-episode-2000.mp4.\n",
      "Moviepy - Writing video /Users/lukehoward/Documents/GitHub/Reinforcement-Learning/Taxi/taxi_agent/rl-video-episode-2000.mp4\n",
      "\n"
     ]
    },
    {
     "name": "stderr",
     "output_type": "stream",
     "text": [
      " 21%|██        | 2058/10000 [00:14<01:29, 88.56it/s] "
     ]
    },
    {
     "name": "stdout",
     "output_type": "stream",
     "text": [
      "Moviepy - Done !\n",
      "Moviepy - video ready /Users/lukehoward/Documents/GitHub/Reinforcement-Learning/Taxi/taxi_agent/rl-video-episode-2000.mp4\n"
     ]
    },
    {
     "name": "stderr",
     "output_type": "stream",
     "text": [
      " 30%|███       | 3000/10000 [00:18<00:28, 249.00it/s]"
     ]
    },
    {
     "name": "stdout",
     "output_type": "stream",
     "text": [
      "Moviepy - Building video /Users/lukehoward/Documents/GitHub/Reinforcement-Learning/Taxi/taxi_agent/rl-video-episode-3000.mp4.\n",
      "Moviepy - Writing video /Users/lukehoward/Documents/GitHub/Reinforcement-Learning/Taxi/taxi_agent/rl-video-episode-3000.mp4\n",
      "\n"
     ]
    },
    {
     "name": "stderr",
     "output_type": "stream",
     "text": [
      " 31%|███       | 3051/10000 [00:19<01:16, 90.65it/s] "
     ]
    },
    {
     "name": "stdout",
     "output_type": "stream",
     "text": [
      "Moviepy - Done !\n",
      "Moviepy - video ready /Users/lukehoward/Documents/GitHub/Reinforcement-Learning/Taxi/taxi_agent/rl-video-episode-3000.mp4\n"
     ]
    },
    {
     "name": "stderr",
     "output_type": "stream",
     "text": [
      " 40%|████      | 4000/10000 [00:22<00:17, 344.53it/s]"
     ]
    },
    {
     "name": "stdout",
     "output_type": "stream",
     "text": [
      "Moviepy - Building video /Users/lukehoward/Documents/GitHub/Reinforcement-Learning/Taxi/taxi_agent/rl-video-episode-4000.mp4.\n",
      "Moviepy - Writing video /Users/lukehoward/Documents/GitHub/Reinforcement-Learning/Taxi/taxi_agent/rl-video-episode-4000.mp4\n",
      "\n"
     ]
    },
    {
     "name": "stderr",
     "output_type": "stream",
     "text": [
      " 40%|████      | 4000/10000 [00:23<00:17, 344.53it/s]"
     ]
    },
    {
     "name": "stdout",
     "output_type": "stream",
     "text": [
      "Moviepy - Done !\n",
      "Moviepy - video ready /Users/lukehoward/Documents/GitHub/Reinforcement-Learning/Taxi/taxi_agent/rl-video-episode-4000.mp4\n"
     ]
    },
    {
     "name": "stderr",
     "output_type": "stream",
     "text": [
      " 50%|████▉     | 4975/10000 [00:25<00:11, 456.37it/s]"
     ]
    },
    {
     "name": "stdout",
     "output_type": "stream",
     "text": [
      "Moviepy - Building video /Users/lukehoward/Documents/GitHub/Reinforcement-Learning/Taxi/taxi_agent/rl-video-episode-5000.mp4.\n",
      "Moviepy - Writing video /Users/lukehoward/Documents/GitHub/Reinforcement-Learning/Taxi/taxi_agent/rl-video-episode-5000.mp4\n",
      "\n"
     ]
    },
    {
     "name": "stderr",
     "output_type": "stream",
     "text": [
      " 50%|█████     | 5021/10000 [00:25<00:15, 326.63it/s]"
     ]
    },
    {
     "name": "stdout",
     "output_type": "stream",
     "text": [
      "Moviepy - Done !\n",
      "Moviepy - video ready /Users/lukehoward/Documents/GitHub/Reinforcement-Learning/Taxi/taxi_agent/rl-video-episode-5000.mp4\n"
     ]
    },
    {
     "name": "stderr",
     "output_type": "stream",
     "text": [
      " 60%|█████▉    | 5968/10000 [00:27<00:06, 638.02it/s]"
     ]
    },
    {
     "name": "stdout",
     "output_type": "stream",
     "text": [
      "Moviepy - Building video /Users/lukehoward/Documents/GitHub/Reinforcement-Learning/Taxi/taxi_agent/rl-video-episode-6000.mp4.\n",
      "Moviepy - Writing video /Users/lukehoward/Documents/GitHub/Reinforcement-Learning/Taxi/taxi_agent/rl-video-episode-6000.mp4\n",
      "\n"
     ]
    },
    {
     "name": "stderr",
     "output_type": "stream",
     "text": [
      " 61%|██████    | 6091/10000 [00:27<00:10, 382.08it/s]"
     ]
    },
    {
     "name": "stdout",
     "output_type": "stream",
     "text": [
      "Moviepy - Done !\n",
      "Moviepy - video ready /Users/lukehoward/Documents/GitHub/Reinforcement-Learning/Taxi/taxi_agent/rl-video-episode-6000.mp4\n"
     ]
    },
    {
     "name": "stderr",
     "output_type": "stream",
     "text": [
      " 70%|██████▉   | 6985/10000 [00:29<00:03, 798.73it/s]"
     ]
    },
    {
     "name": "stdout",
     "output_type": "stream",
     "text": [
      "Moviepy - Building video /Users/lukehoward/Documents/GitHub/Reinforcement-Learning/Taxi/taxi_agent/rl-video-episode-7000.mp4.\n",
      "Moviepy - Writing video /Users/lukehoward/Documents/GitHub/Reinforcement-Learning/Taxi/taxi_agent/rl-video-episode-7000.mp4\n",
      "\n"
     ]
    },
    {
     "name": "stderr",
     "output_type": "stream",
     "text": [
      " 70%|██████▉   | 6985/10000 [00:29<00:03, 798.73it/s]"
     ]
    },
    {
     "name": "stdout",
     "output_type": "stream",
     "text": [
      "Moviepy - Done !\n",
      "Moviepy - video ready /Users/lukehoward/Documents/GitHub/Reinforcement-Learning/Taxi/taxi_agent/rl-video-episode-7000.mp4\n"
     ]
    },
    {
     "name": "stderr",
     "output_type": "stream",
     "text": [
      " 79%|███████▉  | 7919/10000 [00:30<00:02, 927.31it/s]"
     ]
    },
    {
     "name": "stdout",
     "output_type": "stream",
     "text": [
      "Moviepy - Building video /Users/lukehoward/Documents/GitHub/Reinforcement-Learning/Taxi/taxi_agent/rl-video-episode-8000.mp4.\n",
      "Moviepy - Writing video /Users/lukehoward/Documents/GitHub/Reinforcement-Learning/Taxi/taxi_agent/rl-video-episode-8000.mp4\n",
      "\n"
     ]
    },
    {
     "name": "stderr",
     "output_type": "stream",
     "text": [
      " 81%|████████  | 8121/10000 [00:30<00:02, 739.13it/s]"
     ]
    },
    {
     "name": "stdout",
     "output_type": "stream",
     "text": [
      "Moviepy - Done !\n",
      "Moviepy - video ready /Users/lukehoward/Documents/GitHub/Reinforcement-Learning/Taxi/taxi_agent/rl-video-episode-8000.mp4\n"
     ]
    },
    {
     "name": "stderr",
     "output_type": "stream",
     "text": [
      " 89%|████████▉ | 8885/10000 [00:31<00:00, 1246.34it/s]"
     ]
    },
    {
     "name": "stdout",
     "output_type": "stream",
     "text": [
      "Moviepy - Building video /Users/lukehoward/Documents/GitHub/Reinforcement-Learning/Taxi/taxi_agent/rl-video-episode-9000.mp4.\n",
      "Moviepy - Writing video /Users/lukehoward/Documents/GitHub/Reinforcement-Learning/Taxi/taxi_agent/rl-video-episode-9000.mp4\n",
      "\n"
     ]
    },
    {
     "name": "stderr",
     "output_type": "stream",
     "text": [
      " 90%|█████████ | 9014/10000 [00:31<00:01, 871.73it/s] "
     ]
    },
    {
     "name": "stdout",
     "output_type": "stream",
     "text": [
      "Moviepy - Done !\n",
      "Moviepy - video ready /Users/lukehoward/Documents/GitHub/Reinforcement-Learning/Taxi/taxi_agent/rl-video-episode-9000.mp4\n"
     ]
    },
    {
     "name": "stderr",
     "output_type": "stream",
     "text": [
      "100%|██████████| 10000/10000 [00:32<00:00, 308.04it/s]\n"
     ]
    },
    {
     "name": "stdout",
     "output_type": "stream",
     "text": [
      "Moviepy - Building video /Users/lukehoward/Documents/GitHub/Reinforcement-Learning/Taxi/taxi_agent/rl-video-episode-10000.mp4.\n",
      "Moviepy - Writing video /Users/lukehoward/Documents/GitHub/Reinforcement-Learning/Taxi/taxi_agent/rl-video-episode-10000.mp4\n",
      "\n"
     ]
    },
    {
     "name": "stderr",
     "output_type": "stream",
     "text": [
      "/Library/Frameworks/Python.framework/Versions/3.12/lib/python3.12/site-packages/gymnasium/core.py:311: UserWarning: \u001b[33mWARN: env.return_queue to get variables from other wrappers is deprecated and will be removed in v1.0, to get this variable you can do `env.unwrapped.return_queue` for environment variables or `env.get_wrapper_attr('return_queue')` that will search the reminding wrappers.\u001b[0m\n",
      "  logger.warn(\n"
     ]
    },
    {
     "name": "stdout",
     "output_type": "stream",
     "text": [
      "Moviepy - Done !\n",
      "Moviepy - video ready /Users/lukehoward/Documents/GitHub/Reinforcement-Learning/Taxi/taxi_agent/rl-video-episode-10000.mp4\n"
     ]
    },
    {
     "name": "stderr",
     "output_type": "stream",
     "text": [
      "/Library/Frameworks/Python.framework/Versions/3.12/lib/python3.12/site-packages/gymnasium/core.py:311: UserWarning: \u001b[33mWARN: env.length_queue to get variables from other wrappers is deprecated and will be removed in v1.0, to get this variable you can do `env.unwrapped.length_queue` for environment variables or `env.get_wrapper_attr('length_queue')` that will search the reminding wrappers.\u001b[0m\n",
      "  logger.warn(\n"
     ]
    },
    {
     "data": {
      "image/png": "[encoded data removed]",
      "text/plain": [
       "<Figure size 864x360 with 3 Axes>"
      ]
     },
     "metadata": {
      "needs_background": "light"
     },
     "output_type": "display_data"
    }
   ],
   "source": [
    "for episode in tqdm(range(n_episodes)):\n",
    "    obs, info = env.reset()\n",
    "    done = False\n",
    "\n",
    "    while not done:\n",
    "        action = int(agent.get_action(obs))\n",
    "        next_obs, reward, terminated, truncated, infos = env.step(action)\n",
    "\n",
    "        agent.update(obs, action, reward, terminated, next_obs)\n",
    "\n",
    "        done = terminated or truncated\n",
    "        obs = next_obs\n",
    "\n",
    "    agent.decay_epsilon()\n",
    "env.close()\n",
    "\n",
    "rolling_length=500\n",
    "fig, axs= plt.subplots(ncols=3, figsize=(12,5))\n",
    "axs[0].set_title(\"Episode rewards\")\n",
    "reward_moving_average=(np.convolve(np.array(env.return_queue).flatten(), np.ones(rolling_length), mode=\"same\")/rolling_length)\n",
    "axs[0].plot(range(len(reward_moving_average)), reward_moving_average)\n",
    "axs[1].set_title(\"Episode Lengths\")\n",
    "length_moving_average=(np.convolve(np.array(env.length_queue).flatten(), np.ones(rolling_length), mode=\"same\")/rolling_length)\n",
    "axs[1].plot(range(len(length_moving_average)),length_moving_average)\n",
    "training_error_moving_average=(np.convolve(np.array(agent.training_error).flatten(), np.ones(rolling_length), mode=\"same\")/rolling_length)\n",
    "axs[2].plot(range(len(training_error_moving_average)), training_error_moving_average)\n",
    "axs[2].set_title(\"Episode Error\")\n",
    "plt.tight_layout()\n",
    "plt.show()"
   ]
  }
 ],
 "metadata": {
  "kernelspec": {
   "display_name": "base",
   "language": "python",
   "name": "python3"
  },
  "language_info": {
   "codemirror_mode": {
    "name": "ipython",
    "version": 3
   },
   "file_extension": ".py",
   "mimetype": "text/x-python",
   "name": "python",
   "nbconvert_exporter": "python",
   "pygments_lexer": "ipython3",
   "version": "3.9.7"
  }
 },
 "nbformat": 4,
 "nbformat_minor": 2
}
